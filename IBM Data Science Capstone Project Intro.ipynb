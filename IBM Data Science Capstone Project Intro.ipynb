{
    "cells": [
        {
            "metadata": {
                "collapsed": true
            },
            "cell_type": "markdown",
            "source": "<font size=\"10\"> IBM Data Science Professional Certificate Capstone Project</font>\n## This notebook is for the capstone project as part of a 9-course Data Science specialization offered by IBM through Coursera. "
        },
        {
            "metadata": {},
            "cell_type": "markdown",
            "source": "# 1. Project Description:\n\n## I. Introduction:\n    \n        According to the Canadian Bureau for International Education the influx of international students in Canada has increased by approximately 52% from 2014 to 2017. Toronto is one of the cities attracting a lot of international students, and one of the hardest part of moving to a new country as a student is finding the right accomodation for your studies. How do you know if the ones offered by the University of your choice are overpriced, or badly located? Which neighborhoods offer a wide selection of good venues while still having affortable real estate?\n        To answer such a question, this report will be analyzing which neighborhoods of Toronto are best suited for Univesity students based on the surrounding venues and the average prices of 1 bedroom apartments. \n        \n## II. Question to Solve: \n    \n    This project will give insight to the following research question: \n        a. What neighborhoods of Toronto are best suited for international University students?\n    The following subquestions will help reach the answer for the research question:\n        a. How does the type of venues affect the price of real estate?\n        b. Which neighborhoods have the most diverse types of venues?\n        d. To what extent does distances to University affect the price of real estate?\n        \n        The results of this report can be useful for international students coming to Toronto and wondering which neighborhood will have the best combination of affortable pricing and good selection of venues. \n       \n# 2. Data Description:\n\n    The data will come from the following two sources:\n        a. Foursquare API (venues and ratings)\n        b. Zolo Toronto Housing Market (https://www.zolo.ca/toronto-real-estate/trends)\n        \n## I. Data Collection:\n    \n     a. Call Geocoder Python to get the coordinates of each neighborhood in Toronto. \n     b. Using Foursquare API, get the surrounding venues for each neighnorhood. \n     c. Get the average 1-bedroom apartment price for each neighborhood from Zolo.\n     d. Count the occurences of each venue type for each neighborhood. \n     e. Create a dataframe.\n     f. Each row will represent a neighborhood. \n     g. Each column will represent a type of venue present in that neighborhood.\n     h. The last column will be the average 1-bedroom price for each neighborhood. \n     \n## II. Data Analysis: \n    \n     a. Find the correlation of venue type and apartment price for each neighborhood.\n     b. Finding the most statistically significant correlation of venue type on the price for each neighborhood.\n     \n     The result will be a list of venues that affect the price the most of 1-bedroom apartments.\n     Finally, the last step is to find the neighborhood that has the most significant venues for the least price. \n     \n     \n     \n     \n     \n    \n    \n\n"
        },
        {
            "metadata": {},
            "cell_type": "code",
            "source": "",
            "execution_count": null,
            "outputs": []
        }
    ],
    "metadata": {
        "kernelspec": {
            "name": "python3",
            "display_name": "Python 3.6",
            "language": "python"
        },
        "language_info": {
            "name": "python",
            "version": "3.6.9",
            "mimetype": "text/x-python",
            "codemirror_mode": {
                "name": "ipython",
                "version": 3
            },
            "pygments_lexer": "ipython3",
            "nbconvert_exporter": "python",
            "file_extension": ".py"
        }
    },
    "nbformat": 4,
    "nbformat_minor": 1
}